{
 "cells": [
  {
   "cell_type": "markdown",
   "id": "d0375d0d",
   "metadata": {},
   "source": [
    "## 필요한 Library 가져오기"
   ]
  },
  {
   "cell_type": "code",
   "execution_count": 1,
   "id": "fbdc8bf9",
   "metadata": {},
   "outputs": [],
   "source": [
    "# pip install xlrd\n",
    "# pip install tensorflow\n",
    "# pip install pandas\n",
    "# pip install seaborn\n",
    "# pip install scikit-learn\n",
    "\n",
    "import numpy as np\n",
    "import tensorflow as tf\n",
    "import pandas as pd\n",
    "import seaborn as sns"
   ]
  },
  {
   "cell_type": "markdown",
   "id": "96a536da",
   "metadata": {},
   "source": [
    "## dataset 가져오기"
   ]
  },
  {
   "cell_type": "code",
   "execution_count": 2,
   "id": "4c176a8e",
   "metadata": {},
   "outputs": [],
   "source": [
    "dataset = pd.read_excel(\"ISEARdata.xls\")"
   ]
  },
  {
   "cell_type": "code",
   "execution_count": 3,
   "id": "cb1a56de",
   "metadata": {},
   "outputs": [
    {
     "data": {
      "text/html": [
       "<div>\n",
       "<style scoped>\n",
       "    .dataframe tbody tr th:only-of-type {\n",
       "        vertical-align: middle;\n",
       "    }\n",
       "\n",
       "    .dataframe tbody tr th {\n",
       "        vertical-align: top;\n",
       "    }\n",
       "\n",
       "    .dataframe thead th {\n",
       "        text-align: right;\n",
       "    }\n",
       "</style>\n",
       "<table border=\"1\" class=\"dataframe\">\n",
       "  <thead>\n",
       "    <tr style=\"text-align: right;\">\n",
       "      <th></th>\n",
       "      <th>emotion</th>\n",
       "      <th>sentence</th>\n",
       "    </tr>\n",
       "  </thead>\n",
       "  <tbody>\n",
       "    <tr>\n",
       "      <th>0</th>\n",
       "      <td>joy</td>\n",
       "      <td>[ On days when I feel close to my partner and ...</td>\n",
       "    </tr>\n",
       "    <tr>\n",
       "      <th>1</th>\n",
       "      <td>fear</td>\n",
       "      <td>Every time I imagine that someone I love or I ...</td>\n",
       "    </tr>\n",
       "    <tr>\n",
       "      <th>2</th>\n",
       "      <td>anger</td>\n",
       "      <td>When I had been obviously unjustly treated and...</td>\n",
       "    </tr>\n",
       "    <tr>\n",
       "      <th>3</th>\n",
       "      <td>sadness</td>\n",
       "      <td>When I think about the short time that we live...</td>\n",
       "    </tr>\n",
       "    <tr>\n",
       "      <th>4</th>\n",
       "      <td>disgust</td>\n",
       "      <td>At a gathering I found myself involuntarily si...</td>\n",
       "    </tr>\n",
       "  </tbody>\n",
       "</table>\n",
       "</div>"
      ],
      "text/plain": [
       "   emotion                                           sentence\n",
       "0      joy  [ On days when I feel close to my partner and ...\n",
       "1     fear  Every time I imagine that someone I love or I ...\n",
       "2    anger  When I had been obviously unjustly treated and...\n",
       "3  sadness  When I think about the short time that we live...\n",
       "4  disgust  At a gathering I found myself involuntarily si..."
      ]
     },
     "execution_count": 3,
     "metadata": {},
     "output_type": "execute_result"
    }
   ],
   "source": [
    "dataset.head()"
   ]
  },
  {
   "cell_type": "code",
   "execution_count": 4,
   "id": "b761a338",
   "metadata": {},
   "outputs": [
    {
     "data": {
      "text/plain": [
       "anger      1094\n",
       "sadness    1094\n",
       "disgust    1094\n",
       "shame      1094\n",
       "fear       1093\n",
       "joy        1092\n",
       "guilt      1091\n",
       "Name: emotion, dtype: int64"
      ]
     },
     "execution_count": 4,
     "metadata": {},
     "output_type": "execute_result"
    }
   ],
   "source": [
    "dataset['emotion'].value_counts()"
   ]
  },
  {
   "cell_type": "code",
   "execution_count": 5,
   "id": "66f7e060",
   "metadata": {},
   "outputs": [],
   "source": [
    "label_dict = {\"anger\" : 0, \"sadness\" : 1, \"disgust\" : 2,\"shame\" : 3, \"fear\" : 4, \"joy\" : 5,\"guilt\" : 6 }\n",
    "labels = list(label_dict.keys())\n",
    "dataset[\"label\"] = dataset[\"emotion\"].replace(labels, list(range(len(labels))))"
   ]
  },
  {
   "cell_type": "code",
   "execution_count": 6,
   "id": "be79df5d",
   "metadata": {},
   "outputs": [
    {
     "data": {
      "text/html": [
       "<div>\n",
       "<style scoped>\n",
       "    .dataframe tbody tr th:only-of-type {\n",
       "        vertical-align: middle;\n",
       "    }\n",
       "\n",
       "    .dataframe tbody tr th {\n",
       "        vertical-align: top;\n",
       "    }\n",
       "\n",
       "    .dataframe thead th {\n",
       "        text-align: right;\n",
       "    }\n",
       "</style>\n",
       "<table border=\"1\" class=\"dataframe\">\n",
       "  <thead>\n",
       "    <tr style=\"text-align: right;\">\n",
       "      <th></th>\n",
       "      <th>emotion</th>\n",
       "      <th>sentence</th>\n",
       "      <th>label</th>\n",
       "    </tr>\n",
       "  </thead>\n",
       "  <tbody>\n",
       "    <tr>\n",
       "      <th>0</th>\n",
       "      <td>joy</td>\n",
       "      <td>[ On days when I feel close to my partner and ...</td>\n",
       "      <td>5</td>\n",
       "    </tr>\n",
       "    <tr>\n",
       "      <th>1</th>\n",
       "      <td>fear</td>\n",
       "      <td>Every time I imagine that someone I love or I ...</td>\n",
       "      <td>4</td>\n",
       "    </tr>\n",
       "    <tr>\n",
       "      <th>2</th>\n",
       "      <td>anger</td>\n",
       "      <td>When I had been obviously unjustly treated and...</td>\n",
       "      <td>0</td>\n",
       "    </tr>\n",
       "    <tr>\n",
       "      <th>3</th>\n",
       "      <td>sadness</td>\n",
       "      <td>When I think about the short time that we live...</td>\n",
       "      <td>1</td>\n",
       "    </tr>\n",
       "    <tr>\n",
       "      <th>4</th>\n",
       "      <td>disgust</td>\n",
       "      <td>At a gathering I found myself involuntarily si...</td>\n",
       "      <td>2</td>\n",
       "    </tr>\n",
       "  </tbody>\n",
       "</table>\n",
       "</div>"
      ],
      "text/plain": [
       "   emotion                                           sentence  label\n",
       "0      joy  [ On days when I feel close to my partner and ...      5\n",
       "1     fear  Every time I imagine that someone I love or I ...      4\n",
       "2    anger  When I had been obviously unjustly treated and...      0\n",
       "3  sadness  When I think about the short time that we live...      1\n",
       "4  disgust  At a gathering I found myself involuntarily si...      2"
      ]
     },
     "execution_count": 6,
     "metadata": {},
     "output_type": "execute_result"
    }
   ],
   "source": [
    "dataset.head()"
   ]
  },
  {
   "cell_type": "markdown",
   "id": "94023a1c",
   "metadata": {},
   "source": [
    "## 전처리"
   ]
  },
  {
   "cell_type": "code",
   "execution_count": 7,
   "id": "94884d15",
   "metadata": {},
   "outputs": [
    {
     "name": "stdout",
     "output_type": "stream",
     "text": [
      "7652\n"
     ]
    }
   ],
   "source": [
    "print(len(dataset))"
   ]
  },
  {
   "cell_type": "code",
   "execution_count": 8,
   "id": "9ca582af",
   "metadata": {},
   "outputs": [
    {
     "name": "stdout",
     "output_type": "stream",
     "text": [
      "emotion     0\n",
      "sentence    0\n",
      "label       0\n",
      "dtype: int64\n"
     ]
    }
   ],
   "source": [
    "print(dataset.isnull().sum())"
   ]
  },
  {
   "cell_type": "code",
   "execution_count": 9,
   "id": "77abb411",
   "metadata": {},
   "outputs": [
    {
     "data": {
      "text/plain": [
       "7489"
      ]
     },
     "execution_count": 9,
     "metadata": {},
     "output_type": "execute_result"
    }
   ],
   "source": [
    "dataset['sentence'].nunique()"
   ]
  },
  {
   "cell_type": "code",
   "execution_count": 10,
   "id": "8b3ba4f5",
   "metadata": {},
   "outputs": [
    {
     "name": "stdout",
     "output_type": "stream",
     "text": [
      "중복 제거 전 데이터 갯수 :  7652\n",
      "중복 제거 후 데이터 갯수 :  7489\n"
     ]
    }
   ],
   "source": [
    "# 중복 제거\n",
    "print(\"중복 제거 전 데이터 갯수 : \",len(dataset))\n",
    "dataset.drop_duplicates(subset=['sentence'], inplace=True)\n",
    "print(\"중복 제거 후 데이터 갯수 : \",len(dataset))"
   ]
  },
  {
   "cell_type": "code",
   "execution_count": 11,
   "id": "88e986fd",
   "metadata": {},
   "outputs": [
    {
     "data": {
      "text/plain": [
       "<AxesSubplot:>"
      ]
     },
     "execution_count": 11,
     "metadata": {},
     "output_type": "execute_result"
    },
    {
     "data": {
      "image/png": "[encoded data removed]",
      "text/plain": [
       "<Figure size 432x288 with 1 Axes>"
      ]
     },
     "metadata": {
      "needs_background": "light"
     },
     "output_type": "display_data"
    }
   ],
   "source": [
    "dataset['emotion'].value_counts().plot(kind = 'bar')"
   ]
  },
  {
   "cell_type": "markdown",
   "id": "4bf56b9e",
   "metadata": {},
   "source": [
    "### 학습 데이터와 테스트 데이터 분리"
   ]
  },
  {
   "cell_type": "code",
   "execution_count": 12,
   "id": "af272ec8",
   "metadata": {},
   "outputs": [],
   "source": [
    "from sklearn.model_selection import train_test_split\n",
    "\n",
    "X_data = dataset[\"sentence\"]\n",
    "Y_data = dataset[\"label\"]\n",
    "\n",
    "x_tr, x_te, y_tr, y_te = train_test_split(X_data, Y_data, test_size = 0.3, random_state = 42, stratify = Y_data)\n"
   ]
  },
  {
   "cell_type": "markdown",
   "id": "85986094",
   "metadata": {},
   "source": [
    "## 토큰화"
   ]
  },
  {
   "cell_type": "code",
   "execution_count": 13,
   "id": "85dc86d6",
   "metadata": {},
   "outputs": [],
   "source": [
    "vocab_size = 2000\n",
    "max_length = 50"
   ]
  },
  {
   "cell_type": "code",
   "execution_count": 14,
   "id": "d2feea51",
   "metadata": {},
   "outputs": [],
   "source": [
    "from tensorflow.keras.preprocessing.text import Tokenizer\n",
    "from tensorflow.keras.preprocessing.sequence import pad_sequences\n",
    "\n",
    "tokenizer = Tokenizer(num_words = vocab_size)\n",
    "tokenizer.fit_on_texts(x_tr)\n",
    "\n",
    "x_tr_tokenized = tokenizer.texts_to_sequences(x_tr)\n",
    "x_tr_padded = pad_sequences(x_tr_tokenized, maxlen = max_length)\n",
    "\n",
    "x_te_tokenized = tokenizer.texts_to_sequences(x_te)\n",
    "x_te_padded = pad_sequences(x_te_tokenized, maxlen = max_length)"
   ]
  },
  {
   "cell_type": "code",
   "execution_count": 15,
   "id": "cfae67f0",
   "metadata": {},
   "outputs": [],
   "source": [
    "from tensorflow.keras.utils import to_categorical\n",
    "\n",
    "y_tr = to_categorical(y_tr)\n",
    "y_te = to_categorical(y_te)"
   ]
  },
  {
   "cell_type": "markdown",
   "id": "9e7d9423",
   "metadata": {},
   "source": [
    "## 모델 생성"
   ]
  },
  {
   "cell_type": "code",
   "execution_count": 16,
   "id": "1f150ad4",
   "metadata": {},
   "outputs": [],
   "source": [
    "embedding_dim = 256\n",
    "batch_size = 32\n",
    "learning_rate = 0.0002"
   ]
  },
  {
   "cell_type": "code",
   "execution_count": 17,
   "id": "0178f688",
   "metadata": {},
   "outputs": [
    {
     "name": "stdout",
     "output_type": "stream",
     "text": [
      "Model: \"sequential\"\n",
      "_________________________________________________________________\n",
      " Layer (type)                Output Shape              Param #   \n",
      "=================================================================\n",
      " embedding (Embedding)       (None, None, 256)         512000    \n",
      "                                                                 \n",
      " dropout (Dropout)           (None, None, 256)         0         \n",
      "                                                                 \n",
      " bidirectional (Bidirectiona  (None, 100)              122800    \n",
      " l)                                                              \n",
      "                                                                 \n",
      " dense (Dense)               (None, 7)                 707       \n",
      "                                                                 \n",
      "=================================================================\n",
      "Total params: 635,507\n",
      "Trainable params: 635,507\n",
      "Non-trainable params: 0\n",
      "_________________________________________________________________\n"
     ]
    }
   ],
   "source": [
    "from tensorflow.keras.layers import LSTM, Embedding, Dense, Bidirectional, Dropout\n",
    "from tensorflow.keras.models import Sequential\n",
    "\n",
    "model = Sequential()\n",
    "model.add(Embedding(vocab_size, embedding_dim))\n",
    "model.add(Dropout(0.3))\n",
    "model.add(Bidirectional(LSTM(50)))\n",
    "model.add(Dense(7, activation='softmax'))\n",
    "model.summary()"
   ]
  },
  {
   "cell_type": "code",
   "execution_count": null,
   "id": "09505278",
   "metadata": {},
   "outputs": [
    {
     "name": "stdout",
     "output_type": "stream",
     "text": [
      "Epoch 1/20\n",
      "164/164 [==============================] - 9s 38ms/step - loss: 1.9398 - acc: 0.1873 - val_loss: 1.9292 - val_acc: 0.2359\n",
      "Epoch 2/20\n",
      "164/164 [==============================] - 5s 32ms/step - loss: 1.8847 - acc: 0.2896 - val_loss: 1.8308 - val_acc: 0.3111\n",
      "Epoch 3/20\n",
      "164/164 [==============================] - 5s 32ms/step - loss: 1.6577 - acc: 0.4203 - val_loss: 1.5744 - val_acc: 0.4299\n",
      "Epoch 4/20\n",
      "164/164 [==============================] - 5s 32ms/step - loss: 1.3842 - acc: 0.5183 - val_loss: 1.4609 - val_acc: 0.4668\n",
      "Epoch 5/20\n",
      "164/164 [==============================] - 5s 32ms/step - loss: 1.1901 - acc: 0.5929 - val_loss: 1.3878 - val_acc: 0.4918\n",
      "Epoch 6/20\n",
      "164/164 [==============================] - 5s 32ms/step - loss: 1.0554 - acc: 0.6442 - val_loss: 1.3554 - val_acc: 0.5029\n",
      "Epoch 7/20\n",
      "164/164 [==============================] - 6s 35ms/step - loss: 0.9662 - acc: 0.6787 - val_loss: 1.3592 - val_acc: 0.5251\n",
      "Epoch 8/20\n",
      "164/164 [==============================] - 5s 33ms/step - loss: 0.8875 - acc: 0.7077 - val_loss: 1.3272 - val_acc: 0.5265\n",
      "Epoch 9/20\n",
      "164/164 [==============================] - 6s 35ms/step - loss: 0.8223 - acc: 0.7299 - val_loss: 1.3829 - val_acc: 0.5269\n",
      "Epoch 10/20\n",
      "164/164 [==============================] - 6s 36ms/step - loss: 0.7564 - acc: 0.7549 - val_loss: 1.3620 - val_acc: 0.5332\n",
      "Epoch 11/20\n",
      "164/164 [==============================] - 6s 36ms/step - loss: 0.7054 - acc: 0.7738 - val_loss: 1.3362 - val_acc: 0.5332\n",
      "Epoch 12/20\n",
      "164/164 [==============================] - 6s 34ms/step - loss: 0.6526 - acc: 0.7894 - val_loss: 1.3728 - val_acc: 0.5314\n",
      "Epoch 13/20\n",
      "164/164 [==============================] - 5s 33ms/step - loss: 0.6174 - acc: 0.8010 - val_loss: 1.4035 - val_acc: 0.5345\n",
      "Epoch 14/20\n",
      "164/164 [==============================] - 6s 34ms/step - loss: 0.5846 - acc: 0.8111 - val_loss: 1.4792 - val_acc: 0.5305\n",
      "Epoch 15/20\n",
      "164/164 [==============================] - 6s 35ms/step - loss: 0.5513 - acc: 0.8277 - val_loss: 1.4836 - val_acc: 0.5354\n",
      "Epoch 16/20\n",
      "164/164 [==============================] - 6s 35ms/step - loss: 0.5195 - acc: 0.8377 - val_loss: 1.4733 - val_acc: 0.5269\n",
      "Epoch 17/20\n",
      "164/164 [==============================] - 6s 35ms/step - loss: 0.4911 - acc: 0.8447 - val_loss: 1.5805 - val_acc: 0.5318\n",
      "Epoch 18/20\n",
      "163/164 [============================>.] - ETA: 0s - loss: 0.4665 - acc: 0.8528"
     ]
    }
   ],
   "source": [
    "opt = tf.keras.optimizers.Adam(learning_rate = learning_rate)\n",
    "model.compile(loss='categorical_crossentropy', optimizer=opt, metrics=['acc'])\n",
    "history = model.fit(x_tr_padded, y_tr, batch_size=batch_size, epochs=20, validation_data=(x_te_padded, y_te))"
   ]
  },
  {
   "cell_type": "markdown",
   "id": "b8ffc1d3",
   "metadata": {},
   "source": [
    "## 결과 확인"
   ]
  },
  {
   "cell_type": "code",
   "execution_count": null,
   "id": "6ba4cdb8",
   "metadata": {},
   "outputs": [],
   "source": [
    "from sklearn.metrics import f1_score,classification_report\n",
    "from sklearn.metrics import confusion_matrix,plot_confusion_matrix\n",
    "\n",
    "pred = model.predict(x_te_padded)\n",
    "\n",
    "y_test = np.argmax(y_te,axis=1)\n",
    "y_pred = np.argmax(pred,axis=1)\n",
    "\n",
    "print(classification_report(y_test,y_pred))"
   ]
  },
  {
   "cell_type": "code",
   "execution_count": null,
   "id": "5284f42e",
   "metadata": {},
   "outputs": [],
   "source": [
    "cfm = confusion_matrix(y_test,y_pred)\n",
    "df = pd.DataFrame(cfm)\n",
    "sns.heatmap(df,cmap=\"Blues\",annot=True, fmt=\"d\")"
   ]
  },
  {
   "cell_type": "code",
   "execution_count": null,
   "id": "5df796e7",
   "metadata": {},
   "outputs": [],
   "source": []
  }
 ],
 "metadata": {
  "kernelspec": {
   "display_name": "Python 3 (ipykernel)",
   "language": "python",
   "name": "python3"
  },
  "language_info": {
   "codemirror_mode": {
    "name": "ipython",
    "version": 3
   },
   "file_extension": ".py",
   "mimetype": "text/x-python",
   "name": "python",
   "nbconvert_exporter": "python",
   "pygments_lexer": "ipython3",
   "version": "3.8.12"
  }
 },
 "nbformat": 4,
 "nbformat_minor": 5
}
